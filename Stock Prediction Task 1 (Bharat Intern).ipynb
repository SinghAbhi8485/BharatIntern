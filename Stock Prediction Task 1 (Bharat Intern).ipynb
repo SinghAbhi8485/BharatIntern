{
 "cells": [
  {
   "cell_type": "markdown",
   "id": "b73d4648",
   "metadata": {},
   "source": [
    "## Installation and Setup"
   ]
  },
  {
   "cell_type": "code",
   "execution_count": 1,
   "id": "100157e0",
   "metadata": {
    "scrolled": false
   },
   "outputs": [
    {
     "name": "stdout",
     "output_type": "stream",
     "text": [
      "Collecting tensorflowNote: you may need to restart the kernel to use updated packages.\n",
      "\n",
      "  Using cached tensorflow-2.14.0-cp310-cp310-win_amd64.whl (2.1 kB)\n",
      "Requirement already satisfied: tensorflow-intel==2.14.0 in c:\\users\\singh\\anaconda3\\lib\\site-packages (from tensorflow) (2.14.0)\n",
      "Requirement already satisfied: google-pasta>=0.1.1 in c:\\users\\singh\\anaconda3\\lib\\site-packages (from tensorflow-intel==2.14.0->tensorflow) (0.2.0)\n",
      "Requirement already satisfied: opt-einsum>=2.3.2 in c:\\users\\singh\\anaconda3\\lib\\site-packages (from tensorflow-intel==2.14.0->tensorflow) (3.3.0)\n",
      "Requirement already satisfied: flatbuffers>=23.5.26 in c:\\users\\singh\\anaconda3\\lib\\site-packages (from tensorflow-intel==2.14.0->tensorflow) (23.5.26)\n",
      "Requirement already satisfied: gast!=0.5.0,!=0.5.1,!=0.5.2,>=0.2.1 in c:\\users\\singh\\anaconda3\\lib\\site-packages (from tensorflow-intel==2.14.0->tensorflow) (0.5.4)\n",
      "Requirement already satisfied: tensorboard<2.15,>=2.14 in c:\\users\\singh\\anaconda3\\lib\\site-packages (from tensorflow-intel==2.14.0->tensorflow) (2.14.1)\n",
      "Requirement already satisfied: ml-dtypes==0.2.0 in c:\\users\\singh\\anaconda3\\lib\\site-packages (from tensorflow-intel==2.14.0->tensorflow) (0.2.0)\n",
      "Requirement already satisfied: numpy>=1.23.5 in c:\\users\\singh\\anaconda3\\lib\\site-packages (from tensorflow-intel==2.14.0->tensorflow) (1.23.5)\n",
      "Requirement already satisfied: keras<2.15,>=2.14.0 in c:\\users\\singh\\anaconda3\\lib\\site-packages (from tensorflow-intel==2.14.0->tensorflow) (2.14.0)\n",
      "Requirement already satisfied: grpcio<2.0,>=1.24.3 in c:\\users\\singh\\anaconda3\\lib\\site-packages (from tensorflow-intel==2.14.0->tensorflow) (1.59.0)\n",
      "Requirement already satisfied: tensorflow-io-gcs-filesystem>=0.23.1 in c:\\users\\singh\\anaconda3\\lib\\site-packages (from tensorflow-intel==2.14.0->tensorflow) (0.31.0)\n",
      "Requirement already satisfied: h5py>=2.9.0 in c:\\users\\singh\\anaconda3\\lib\\site-packages (from tensorflow-intel==2.14.0->tensorflow) (3.7.0)\n",
      "Requirement already satisfied: setuptools in c:\\users\\singh\\anaconda3\\lib\\site-packages (from tensorflow-intel==2.14.0->tensorflow) (65.6.3)\n",
      "Requirement already satisfied: typing-extensions>=3.6.6 in c:\\users\\singh\\anaconda3\\lib\\site-packages (from tensorflow-intel==2.14.0->tensorflow) (4.4.0)\n",
      "Requirement already satisfied: wrapt<1.15,>=1.11.0 in c:\\users\\singh\\anaconda3\\lib\\site-packages (from tensorflow-intel==2.14.0->tensorflow) (1.14.1)\n",
      "Requirement already satisfied: packaging in c:\\users\\singh\\anaconda3\\lib\\site-packages (from tensorflow-intel==2.14.0->tensorflow) (22.0)\n",
      "Requirement already satisfied: six>=1.12.0 in c:\\users\\singh\\anaconda3\\lib\\site-packages (from tensorflow-intel==2.14.0->tensorflow) (1.16.0)\n",
      "Requirement already satisfied: tensorflow-estimator<2.15,>=2.14.0 in c:\\users\\singh\\anaconda3\\lib\\site-packages (from tensorflow-intel==2.14.0->tensorflow) (2.14.0)\n",
      "Requirement already satisfied: absl-py>=1.0.0 in c:\\users\\singh\\anaconda3\\lib\\site-packages (from tensorflow-intel==2.14.0->tensorflow) (2.0.0)\n",
      "Requirement already satisfied: termcolor>=1.1.0 in c:\\users\\singh\\anaconda3\\lib\\site-packages (from tensorflow-intel==2.14.0->tensorflow) (2.3.0)\n",
      "Requirement already satisfied: astunparse>=1.6.0 in c:\\users\\singh\\anaconda3\\lib\\site-packages (from tensorflow-intel==2.14.0->tensorflow) (1.6.3)\n",
      "Requirement already satisfied: libclang>=13.0.0 in c:\\users\\singh\\anaconda3\\lib\\site-packages (from tensorflow-intel==2.14.0->tensorflow) (16.0.6)\n",
      "Requirement already satisfied: protobuf!=4.21.0,!=4.21.1,!=4.21.2,!=4.21.3,!=4.21.4,!=4.21.5,<5.0.0dev,>=3.20.3 in c:\\users\\singh\\anaconda3\\lib\\site-packages (from tensorflow-intel==2.14.0->tensorflow) (4.24.4)\n",
      "Requirement already satisfied: wheel<1.0,>=0.23.0 in c:\\users\\singh\\anaconda3\\lib\\site-packages (from astunparse>=1.6.0->tensorflow-intel==2.14.0->tensorflow) (0.38.4)\n",
      "Requirement already satisfied: google-auth-oauthlib<1.1,>=0.5 in c:\\users\\singh\\anaconda3\\lib\\site-packages (from tensorboard<2.15,>=2.14->tensorflow-intel==2.14.0->tensorflow) (1.0.0)\n",
      "Requirement already satisfied: requests<3,>=2.21.0 in c:\\users\\singh\\anaconda3\\lib\\site-packages (from tensorboard<2.15,>=2.14->tensorflow-intel==2.14.0->tensorflow) (2.28.1)\n",
      "Requirement already satisfied: tensorboard-data-server<0.8.0,>=0.7.0 in c:\\users\\singh\\anaconda3\\lib\\site-packages (from tensorboard<2.15,>=2.14->tensorflow-intel==2.14.0->tensorflow) (0.7.1)\n",
      "Requirement already satisfied: werkzeug>=1.0.1 in c:\\users\\singh\\anaconda3\\lib\\site-packages (from tensorboard<2.15,>=2.14->tensorflow-intel==2.14.0->tensorflow) (2.2.2)\n",
      "Requirement already satisfied: markdown>=2.6.8 in c:\\users\\singh\\anaconda3\\lib\\site-packages (from tensorboard<2.15,>=2.14->tensorflow-intel==2.14.0->tensorflow) (3.4.1)\n",
      "Requirement already satisfied: google-auth<3,>=1.6.3 in c:\\users\\singh\\anaconda3\\lib\\site-packages (from tensorboard<2.15,>=2.14->tensorflow-intel==2.14.0->tensorflow) (2.23.2)\n",
      "Requirement already satisfied: rsa<5,>=3.1.4 in c:\\users\\singh\\anaconda3\\lib\\site-packages (from google-auth<3,>=1.6.3->tensorboard<2.15,>=2.14->tensorflow-intel==2.14.0->tensorflow) (4.9)\n",
      "Requirement already satisfied: pyasn1-modules>=0.2.1 in c:\\users\\singh\\anaconda3\\lib\\site-packages (from google-auth<3,>=1.6.3->tensorboard<2.15,>=2.14->tensorflow-intel==2.14.0->tensorflow) (0.2.8)\n",
      "Requirement already satisfied: cachetools<6.0,>=2.0.0 in c:\\users\\singh\\anaconda3\\lib\\site-packages (from google-auth<3,>=1.6.3->tensorboard<2.15,>=2.14->tensorflow-intel==2.14.0->tensorflow) (5.3.1)\n",
      "Requirement already satisfied: requests-oauthlib>=0.7.0 in c:\\users\\singh\\anaconda3\\lib\\site-packages (from google-auth-oauthlib<1.1,>=0.5->tensorboard<2.15,>=2.14->tensorflow-intel==2.14.0->tensorflow) (1.3.1)\n",
      "Requirement already satisfied: certifi>=2017.4.17 in c:\\users\\singh\\anaconda3\\lib\\site-packages (from requests<3,>=2.21.0->tensorboard<2.15,>=2.14->tensorflow-intel==2.14.0->tensorflow) (2022.12.7)\n",
      "Requirement already satisfied: charset-normalizer<3,>=2 in c:\\users\\singh\\anaconda3\\lib\\site-packages (from requests<3,>=2.21.0->tensorboard<2.15,>=2.14->tensorflow-intel==2.14.0->tensorflow) (2.0.4)\n",
      "Requirement already satisfied: idna<4,>=2.5 in c:\\users\\singh\\anaconda3\\lib\\site-packages (from requests<3,>=2.21.0->tensorboard<2.15,>=2.14->tensorflow-intel==2.14.0->tensorflow) (3.4)\n",
      "Requirement already satisfied: urllib3<1.27,>=1.21.1 in c:\\users\\singh\\anaconda3\\lib\\site-packages (from requests<3,>=2.21.0->tensorboard<2.15,>=2.14->tensorflow-intel==2.14.0->tensorflow) (1.26.14)\n",
      "Requirement already satisfied: MarkupSafe>=2.1.1 in c:\\users\\singh\\anaconda3\\lib\\site-packages (from werkzeug>=1.0.1->tensorboard<2.15,>=2.14->tensorflow-intel==2.14.0->tensorflow) (2.1.1)\n",
      "Requirement already satisfied: pyasn1<0.5.0,>=0.4.6 in c:\\users\\singh\\anaconda3\\lib\\site-packages (from pyasn1-modules>=0.2.1->google-auth<3,>=1.6.3->tensorboard<2.15,>=2.14->tensorflow-intel==2.14.0->tensorflow) (0.4.8)\n",
      "Requirement already satisfied: oauthlib>=3.0.0 in c:\\users\\singh\\anaconda3\\lib\\site-packages (from requests-oauthlib>=0.7.0->google-auth-oauthlib<1.1,>=0.5->tensorboard<2.15,>=2.14->tensorflow-intel==2.14.0->tensorflow) (3.2.2)\n",
      "Installing collected packages: tensorflow\n",
      "Successfully installed tensorflow-2.14.0\n"
     ]
    }
   ],
   "source": [
    "pip install tensorflow"
   ]
  },
  {
   "cell_type": "code",
   "execution_count": 2,
   "id": "2c4c7542",
   "metadata": {},
   "outputs": [],
   "source": [
    "import tensorflow as tf"
   ]
  },
  {
   "cell_type": "code",
   "execution_count": 3,
   "id": "532656f5",
   "metadata": {},
   "outputs": [
    {
     "name": "stdout",
     "output_type": "stream",
     "text": [
      "2.14.0\n"
     ]
    }
   ],
   "source": [
    "print(tf.__version__)"
   ]
  },
  {
   "cell_type": "code",
   "execution_count": 4,
   "id": "a71df0bc",
   "metadata": {},
   "outputs": [],
   "source": [
    "import numpy as np\n",
    "import pandas as pd\n",
    "import matplotlib.pyplot as plt"
   ]
  },
  {
   "cell_type": "markdown",
   "id": "307d0ab8",
   "metadata": {},
   "source": [
    "## Data Precprocessing Phase"
   ]
  },
  {
   "cell_type": "code",
   "execution_count": 8,
   "id": "9a59bb2d",
   "metadata": {},
   "outputs": [],
   "source": [
    "training_data = pd.read_csv('training_set.csv')"
   ]
  },
  {
   "cell_type": "code",
   "execution_count": 9,
   "id": "eea101e2",
   "metadata": {},
   "outputs": [
    {
     "data": {
      "text/html": [
       "<div>\n",
       "<style scoped>\n",
       "    .dataframe tbody tr th:only-of-type {\n",
       "        vertical-align: middle;\n",
       "    }\n",
       "\n",
       "    .dataframe tbody tr th {\n",
       "        vertical-align: top;\n",
       "    }\n",
       "\n",
       "    .dataframe thead th {\n",
       "        text-align: right;\n",
       "    }\n",
       "</style>\n",
       "<table border=\"1\" class=\"dataframe\">\n",
       "  <thead>\n",
       "    <tr style=\"text-align: right;\">\n",
       "      <th></th>\n",
       "      <th>Date</th>\n",
       "      <th>Open</th>\n",
       "      <th>High</th>\n",
       "      <th>Low</th>\n",
       "      <th>Close</th>\n",
       "      <th>Adj Close</th>\n",
       "      <th>Volume</th>\n",
       "    </tr>\n",
       "  </thead>\n",
       "  <tbody>\n",
       "    <tr>\n",
       "      <th>0</th>\n",
       "      <td>2018-10-08</td>\n",
       "      <td>57.505501</td>\n",
       "      <td>58.400002</td>\n",
       "      <td>56.368198</td>\n",
       "      <td>57.448502</td>\n",
       "      <td>57.448502</td>\n",
       "      <td>38648000</td>\n",
       "    </tr>\n",
       "    <tr>\n",
       "      <th>1</th>\n",
       "      <td>2018-10-09</td>\n",
       "      <td>57.307499</td>\n",
       "      <td>57.717499</td>\n",
       "      <td>56.878601</td>\n",
       "      <td>56.941002</td>\n",
       "      <td>56.941002</td>\n",
       "      <td>26174000</td>\n",
       "    </tr>\n",
       "    <tr>\n",
       "      <th>2</th>\n",
       "      <td>2018-10-10</td>\n",
       "      <td>56.554001</td>\n",
       "      <td>56.608501</td>\n",
       "      <td>54.056499</td>\n",
       "      <td>54.061001</td>\n",
       "      <td>54.061001</td>\n",
       "      <td>53514000</td>\n",
       "    </tr>\n",
       "    <tr>\n",
       "      <th>3</th>\n",
       "      <td>2018-10-11</td>\n",
       "      <td>53.646999</td>\n",
       "      <td>55.320000</td>\n",
       "      <td>53.413502</td>\n",
       "      <td>53.966000</td>\n",
       "      <td>53.966000</td>\n",
       "      <td>58980000</td>\n",
       "    </tr>\n",
       "    <tr>\n",
       "      <th>4</th>\n",
       "      <td>2018-10-12</td>\n",
       "      <td>55.400002</td>\n",
       "      <td>55.750000</td>\n",
       "      <td>54.320099</td>\n",
       "      <td>55.504002</td>\n",
       "      <td>55.504002</td>\n",
       "      <td>42026000</td>\n",
       "    </tr>\n",
       "  </tbody>\n",
       "</table>\n",
       "</div>"
      ],
      "text/plain": [
       "         Date       Open       High        Low      Close  Adj Close    Volume\n",
       "0  2018-10-08  57.505501  58.400002  56.368198  57.448502  57.448502  38648000\n",
       "1  2018-10-09  57.307499  57.717499  56.878601  56.941002  56.941002  26174000\n",
       "2  2018-10-10  56.554001  56.608501  54.056499  54.061001  54.061001  53514000\n",
       "3  2018-10-11  53.646999  55.320000  53.413502  53.966000  53.966000  58980000\n",
       "4  2018-10-12  55.400002  55.750000  54.320099  55.504002  55.504002  42026000"
      ]
     },
     "execution_count": 9,
     "metadata": {},
     "output_type": "execute_result"
    }
   ],
   "source": [
    "training_data.head()"
   ]
  },
  {
   "cell_type": "code",
   "execution_count": 10,
   "id": "01ac1e11",
   "metadata": {},
   "outputs": [
    {
     "data": {
      "text/html": [
       "<div>\n",
       "<style scoped>\n",
       "    .dataframe tbody tr th:only-of-type {\n",
       "        vertical-align: middle;\n",
       "    }\n",
       "\n",
       "    .dataframe tbody tr th {\n",
       "        vertical-align: top;\n",
       "    }\n",
       "\n",
       "    .dataframe thead th {\n",
       "        text-align: right;\n",
       "    }\n",
       "</style>\n",
       "<table border=\"1\" class=\"dataframe\">\n",
       "  <thead>\n",
       "    <tr style=\"text-align: right;\">\n",
       "      <th></th>\n",
       "      <th>Date</th>\n",
       "      <th>Open</th>\n",
       "      <th>High</th>\n",
       "      <th>Low</th>\n",
       "      <th>Close</th>\n",
       "      <th>Adj Close</th>\n",
       "      <th>Volume</th>\n",
       "    </tr>\n",
       "  </thead>\n",
       "  <tbody>\n",
       "    <tr>\n",
       "      <th>1252</th>\n",
       "      <td>2023-09-29</td>\n",
       "      <td>134.080002</td>\n",
       "      <td>134.889999</td>\n",
       "      <td>131.320007</td>\n",
       "      <td>131.850006</td>\n",
       "      <td>131.850006</td>\n",
       "      <td>23224200</td>\n",
       "    </tr>\n",
       "    <tr>\n",
       "      <th>1253</th>\n",
       "      <td>2023-10-02</td>\n",
       "      <td>132.154999</td>\n",
       "      <td>135.360001</td>\n",
       "      <td>132.065002</td>\n",
       "      <td>135.169998</td>\n",
       "      <td>135.169998</td>\n",
       "      <td>19210400</td>\n",
       "    </tr>\n",
       "    <tr>\n",
       "      <th>1254</th>\n",
       "      <td>2023-10-03</td>\n",
       "      <td>134.929993</td>\n",
       "      <td>135.240005</td>\n",
       "      <td>132.815002</td>\n",
       "      <td>133.300003</td>\n",
       "      <td>133.300003</td>\n",
       "      <td>19628700</td>\n",
       "    </tr>\n",
       "    <tr>\n",
       "      <th>1255</th>\n",
       "      <td>2023-10-04</td>\n",
       "      <td>133.660004</td>\n",
       "      <td>136.570007</td>\n",
       "      <td>133.429993</td>\n",
       "      <td>136.270004</td>\n",
       "      <td>136.270004</td>\n",
       "      <td>22848000</td>\n",
       "    </tr>\n",
       "    <tr>\n",
       "      <th>1256</th>\n",
       "      <td>2023-10-05</td>\n",
       "      <td>136.130005</td>\n",
       "      <td>136.500000</td>\n",
       "      <td>134.455002</td>\n",
       "      <td>135.990005</td>\n",
       "      <td>135.990005</td>\n",
       "      <td>15922900</td>\n",
       "    </tr>\n",
       "  </tbody>\n",
       "</table>\n",
       "</div>"
      ],
      "text/plain": [
       "            Date        Open        High         Low       Close   Adj Close  \\\n",
       "1252  2023-09-29  134.080002  134.889999  131.320007  131.850006  131.850006   \n",
       "1253  2023-10-02  132.154999  135.360001  132.065002  135.169998  135.169998   \n",
       "1254  2023-10-03  134.929993  135.240005  132.815002  133.300003  133.300003   \n",
       "1255  2023-10-04  133.660004  136.570007  133.429993  136.270004  136.270004   \n",
       "1256  2023-10-05  136.130005  136.500000  134.455002  135.990005  135.990005   \n",
       "\n",
       "        Volume  \n",
       "1252  23224200  \n",
       "1253  19210400  \n",
       "1254  19628700  \n",
       "1255  22848000  \n",
       "1256  15922900  "
      ]
     },
     "execution_count": 10,
     "metadata": {},
     "output_type": "execute_result"
    }
   ],
   "source": [
    "training_data.tail()"
   ]
  },
  {
   "cell_type": "code",
   "execution_count": 11,
   "id": "a8f812c5",
   "metadata": {},
   "outputs": [
    {
     "name": "stdout",
     "output_type": "stream",
     "text": [
      "<class 'pandas.core.frame.DataFrame'>\n",
      "RangeIndex: 1257 entries, 0 to 1256\n",
      "Data columns (total 7 columns):\n",
      " #   Column     Non-Null Count  Dtype  \n",
      "---  ------     --------------  -----  \n",
      " 0   Date       1257 non-null   object \n",
      " 1   Open       1257 non-null   float64\n",
      " 2   High       1257 non-null   float64\n",
      " 3   Low        1257 non-null   float64\n",
      " 4   Close      1257 non-null   float64\n",
      " 5   Adj Close  1257 non-null   float64\n",
      " 6   Volume     1257 non-null   int64  \n",
      "dtypes: float64(5), int64(1), object(1)\n",
      "memory usage: 68.9+ KB\n"
     ]
    }
   ],
   "source": [
    "training_data.info()"
   ]
  },
  {
   "cell_type": "code",
   "execution_count": 12,
   "id": "c55ad293",
   "metadata": {},
   "outputs": [],
   "source": [
    "training_set = training_data.iloc[:,1:2].values"
   ]
  },
  {
   "cell_type": "code",
   "execution_count": 14,
   "id": "e09ba2d3",
   "metadata": {},
   "outputs": [
    {
     "data": {
      "text/plain": [
       "((1257, 1), (1257, 7))"
      ]
     },
     "execution_count": 14,
     "metadata": {},
     "output_type": "execute_result"
    }
   ],
   "source": [
    "training_set.shape , training_data.shape"
   ]
  },
  {
   "cell_type": "markdown",
   "id": "ca08de70",
   "metadata": {},
   "source": [
    "## Feature Scaling"
   ]
  },
  {
   "cell_type": "code",
   "execution_count": 17,
   "id": "c730db67",
   "metadata": {},
   "outputs": [],
   "source": [
    "from sklearn.preprocessing import MinMaxScaler\n",
    "sc = MinMaxScaler(feature_range =(0,1))\n",
    "training_set_scaled = sc.fit_transform(training_set)"
   ]
  },
  {
   "cell_type": "code",
   "execution_count": 20,
   "id": "aaea979e",
   "metadata": {},
   "outputs": [
    {
     "data": {
      "text/plain": [
       "array([[0.08539914],\n",
       "       [0.08347993],\n",
       "       [0.07617637],\n",
       "       ...,\n",
       "       [0.83586557],\n",
       "       [0.82355572],\n",
       "       [0.84749715]])"
      ]
     },
     "execution_count": 20,
     "metadata": {},
     "output_type": "execute_result"
    }
   ],
   "source": [
    "training_set_scaled"
   ]
  },
  {
   "cell_type": "markdown",
   "id": "0715cf5f",
   "metadata": {},
   "source": [
    "## Creating a data structure with 60 timesteps and 1 output"
   ]
  },
  {
   "cell_type": "code",
   "execution_count": 27,
   "id": "69bbd9e4",
   "metadata": {},
   "outputs": [],
   "source": [
    "X_train = []\n",
    "y_train = []\n",
    "\n",
    "for i in range(60,1257):\n",
    "    X_train.append(training_set_scaled[i-60:i,0])\n",
    "    y_train.append(training_set_scaled[i,0])\n",
    "    \n",
    "X_train, y_train = np.array(X_train), np.array(y_train)"
   ]
  },
  {
   "cell_type": "code",
   "execution_count": 28,
   "id": "1739d897",
   "metadata": {},
   "outputs": [
    {
     "data": {
      "text/plain": [
       "array([[0.08539914, 0.08347993, 0.07617637, ..., 0.03734667, 0.02067975,\n",
       "        0.03251961],\n",
       "       [0.08347993, 0.07617637, 0.04799914, ..., 0.02067975, 0.03251961,\n",
       "        0.02844377],\n",
       "       [0.07617637, 0.04799914, 0.06499079, ..., 0.03251961, 0.02844377,\n",
       "        0.04730127],\n",
       "       ...,\n",
       "       [0.68213654, 0.659746  , 0.68436593, ..., 0.79476784, 0.82762671,\n",
       "        0.80896788],\n",
       "       [0.659746  , 0.68436593, 0.70607796, ..., 0.82762671, 0.80896788,\n",
       "        0.83586557],\n",
       "       [0.68436593, 0.70607796, 0.74087537, ..., 0.80896788, 0.83586557,\n",
       "        0.82355572]])"
      ]
     },
     "execution_count": 28,
     "metadata": {},
     "output_type": "execute_result"
    }
   ],
   "source": [
    "X_train"
   ]
  },
  {
   "cell_type": "code",
   "execution_count": 29,
   "id": "a3810faf",
   "metadata": {},
   "outputs": [
    {
     "data": {
      "text/plain": [
       "array([0.02844377, 0.04730127, 0.04953547, ..., 0.83586557, 0.82355572,\n",
       "       0.84749715])"
      ]
     },
     "execution_count": 29,
     "metadata": {},
     "output_type": "execute_result"
    }
   ],
   "source": [
    "y_train"
   ]
  },
  {
   "cell_type": "code",
   "execution_count": 30,
   "id": "f834078f",
   "metadata": {},
   "outputs": [
    {
     "data": {
      "text/plain": [
       "(1197, 60)"
      ]
     },
     "execution_count": 30,
     "metadata": {},
     "output_type": "execute_result"
    }
   ],
   "source": [
    "X_train.shape"
   ]
  },
  {
   "cell_type": "code",
   "execution_count": 31,
   "id": "6cd3f3a1",
   "metadata": {},
   "outputs": [],
   "source": [
    "X_train = X_train.reshape(1197,60,1)"
   ]
  },
  {
   "cell_type": "code",
   "execution_count": 32,
   "id": "c7e240b0",
   "metadata": {},
   "outputs": [
    {
     "data": {
      "text/plain": [
       "(1197, 60, 1)"
      ]
     },
     "execution_count": 32,
     "metadata": {},
     "output_type": "execute_result"
    }
   ],
   "source": [
    "X_train.shape"
   ]
  },
  {
   "cell_type": "markdown",
   "id": "1da8ecef",
   "metadata": {},
   "source": [
    "## Building LSTM"
   ]
  },
  {
   "cell_type": "code",
   "execution_count": 33,
   "id": "d86e8118",
   "metadata": {},
   "outputs": [],
   "source": [
    "# define an object (intializing RNN)\n",
    "model = tf.keras.models.Sequential()"
   ]
  },
  {
   "cell_type": "code",
   "execution_count": 34,
   "id": "20ec260d",
   "metadata": {},
   "outputs": [],
   "source": [
    "# first LSTM layer\n",
    "model.add(tf.keras.layers.LSTM(units=60, activation='relu', return_sequences=True, input_shape=(60,1)))\n",
    "# dropout layer\n",
    "model.add(tf.keras.layers.Dropout(0.2))\n",
    "\n",
    "# second LSTM layer\n",
    "model.add(tf.keras.layers.LSTM(units=60, activation='relu', return_sequences=True))\n",
    "# dropout layer\n",
    "model.add(tf.keras.layers.Dropout(0.2))\n",
    "\n",
    "# third LSTM layer\n",
    "model.add(tf.keras.layers.LSTM(units=80, activation='relu', return_sequences=True))\n",
    "# dropout layer\n",
    "model.add(tf.keras.layers.Dropout(0.2))\n",
    "\n",
    "# fourth LSTM layer\n",
    "model.add(tf.keras.layers.LSTM(units=120, activation='relu'))\n",
    "# dropout layer\n",
    "model.add(tf.keras.layers.Dropout(0.2))"
   ]
  },
  {
   "cell_type": "code",
   "execution_count": 35,
   "id": "1c144ea7",
   "metadata": {},
   "outputs": [],
   "source": [
    "# output layer\n",
    "model.add(tf.keras.layers.Dense(units=1))"
   ]
  },
  {
   "cell_type": "code",
   "execution_count": 36,
   "id": "5b9b3daa",
   "metadata": {},
   "outputs": [
    {
     "name": "stdout",
     "output_type": "stream",
     "text": [
      "Model: \"sequential\"\n",
      "_________________________________________________________________\n",
      " Layer (type)                Output Shape              Param #   \n",
      "=================================================================\n",
      " lstm (LSTM)                 (None, 60, 60)            14880     \n",
      "                                                                 \n",
      " dropout (Dropout)           (None, 60, 60)            0         \n",
      "                                                                 \n",
      " lstm_1 (LSTM)               (None, 60, 60)            29040     \n",
      "                                                                 \n",
      " dropout_1 (Dropout)         (None, 60, 60)            0         \n",
      "                                                                 \n",
      " lstm_2 (LSTM)               (None, 60, 80)            45120     \n",
      "                                                                 \n",
      " dropout_2 (Dropout)         (None, 60, 80)            0         \n",
      "                                                                 \n",
      " lstm_3 (LSTM)               (None, 120)               96480     \n",
      "                                                                 \n",
      " dropout_3 (Dropout)         (None, 120)               0         \n",
      "                                                                 \n",
      " dense (Dense)               (None, 1)                 121       \n",
      "                                                                 \n",
      "=================================================================\n",
      "Total params: 185641 (725.16 KB)\n",
      "Trainable params: 185641 (725.16 KB)\n",
      "Non-trainable params: 0 (0.00 Byte)\n",
      "_________________________________________________________________\n"
     ]
    }
   ],
   "source": [
    "model.summary()"
   ]
  },
  {
   "cell_type": "code",
   "execution_count": 37,
   "id": "f93f2900",
   "metadata": {},
   "outputs": [],
   "source": [
    "# compile the model\n",
    "model.compile(optimizer='adam', loss='mean_squared_error')"
   ]
  },
  {
   "cell_type": "markdown",
   "id": "9e589edd",
   "metadata": {},
   "source": [
    "## Training the model"
   ]
  },
  {
   "cell_type": "code",
   "execution_count": 39,
   "id": "f269f79a",
   "metadata": {},
   "outputs": [
    {
     "name": "stdout",
     "output_type": "stream",
     "text": [
      "Epoch 1/100\n",
      "38/38 [==============================] - 24s 313ms/step - loss: 0.0670\n",
      "Epoch 2/100\n",
      "38/38 [==============================] - 11s 295ms/step - loss: 0.0085\n",
      "Epoch 3/100\n",
      "38/38 [==============================] - 11s 300ms/step - loss: 0.0061\n",
      "Epoch 4/100\n",
      "38/38 [==============================] - 11s 302ms/step - loss: 0.0058\n",
      "Epoch 5/100\n",
      "38/38 [==============================] - 12s 322ms/step - loss: 0.0062\n",
      "Epoch 6/100\n",
      "38/38 [==============================] - 12s 322ms/step - loss: 0.0055\n",
      "Epoch 7/100\n",
      "38/38 [==============================] - 11s 300ms/step - loss: 0.0054\n",
      "Epoch 8/100\n",
      "38/38 [==============================] - 12s 311ms/step - loss: 0.0053\n",
      "Epoch 9/100\n",
      "38/38 [==============================] - 12s 315ms/step - loss: 0.0049\n",
      "Epoch 10/100\n",
      "38/38 [==============================] - 12s 325ms/step - loss: 0.0047\n",
      "Epoch 11/100\n",
      "38/38 [==============================] - 12s 308ms/step - loss: 0.0045\n",
      "Epoch 12/100\n",
      "38/38 [==============================] - 12s 309ms/step - loss: 0.0044\n",
      "Epoch 13/100\n",
      "38/38 [==============================] - 12s 315ms/step - loss: 0.0043\n",
      "Epoch 14/100\n",
      "38/38 [==============================] - 14s 368ms/step - loss: 0.0042\n",
      "Epoch 15/100\n",
      "38/38 [==============================] - 14s 376ms/step - loss: 0.0043\n",
      "Epoch 16/100\n",
      "38/38 [==============================] - 14s 364ms/step - loss: 0.0040\n",
      "Epoch 17/100\n",
      "38/38 [==============================] - 13s 347ms/step - loss: 0.0040\n",
      "Epoch 18/100\n",
      "38/38 [==============================] - 14s 358ms/step - loss: 0.0037\n",
      "Epoch 19/100\n",
      "38/38 [==============================] - 13s 350ms/step - loss: 0.0038\n",
      "Epoch 20/100\n",
      "38/38 [==============================] - 12s 308ms/step - loss: 0.0038\n",
      "Epoch 21/100\n",
      "38/38 [==============================] - 12s 308ms/step - loss: 0.0035\n",
      "Epoch 22/100\n",
      "38/38 [==============================] - 12s 305ms/step - loss: 0.0041\n",
      "Epoch 23/100\n",
      "38/38 [==============================] - 12s 313ms/step - loss: 0.0048\n",
      "Epoch 24/100\n",
      "38/38 [==============================] - 12s 328ms/step - loss: 0.0039\n",
      "Epoch 25/100\n",
      "38/38 [==============================] - 12s 321ms/step - loss: 0.0037\n",
      "Epoch 26/100\n",
      "38/38 [==============================] - 12s 317ms/step - loss: 0.0032\n",
      "Epoch 27/100\n",
      "38/38 [==============================] - 11s 296ms/step - loss: 0.0030\n",
      "Epoch 28/100\n",
      "38/38 [==============================] - 11s 292ms/step - loss: 0.0030\n",
      "Epoch 29/100\n",
      "38/38 [==============================] - 11s 290ms/step - loss: 0.0037\n",
      "Epoch 30/100\n",
      "38/38 [==============================] - 12s 305ms/step - loss: 0.0035\n",
      "Epoch 31/100\n",
      "38/38 [==============================] - 11s 293ms/step - loss: 0.0028\n",
      "Epoch 32/100\n",
      "38/38 [==============================] - 11s 288ms/step - loss: 0.0032\n",
      "Epoch 33/100\n",
      "38/38 [==============================] - 11s 289ms/step - loss: 0.0030\n",
      "Epoch 34/100\n",
      "38/38 [==============================] - 11s 287ms/step - loss: 0.0030\n",
      "Epoch 35/100\n",
      "38/38 [==============================] - 11s 296ms/step - loss: 0.0026\n",
      "Epoch 36/100\n",
      "38/38 [==============================] - 12s 311ms/step - loss: 0.0032\n",
      "Epoch 37/100\n",
      "38/38 [==============================] - 13s 339ms/step - loss: 0.0034\n",
      "Epoch 38/100\n",
      "38/38 [==============================] - 12s 327ms/step - loss: 0.0028\n",
      "Epoch 39/100\n",
      "38/38 [==============================] - 12s 307ms/step - loss: 0.0029\n",
      "Epoch 40/100\n",
      "38/38 [==============================] - 12s 306ms/step - loss: 0.0028\n",
      "Epoch 41/100\n",
      "38/38 [==============================] - 13s 351ms/step - loss: 0.0026\n",
      "Epoch 42/100\n",
      "38/38 [==============================] - 14s 358ms/step - loss: 0.0027\n",
      "Epoch 43/100\n",
      "38/38 [==============================] - 13s 336ms/step - loss: 0.0027\n",
      "Epoch 44/100\n",
      "38/38 [==============================] - 12s 321ms/step - loss: 0.0028\n",
      "Epoch 45/100\n",
      "38/38 [==============================] - 12s 307ms/step - loss: 0.0025\n",
      "Epoch 46/100\n",
      "38/38 [==============================] - 12s 305ms/step - loss: 0.0024\n",
      "Epoch 47/100\n",
      "38/38 [==============================] - 12s 308ms/step - loss: 0.0027\n",
      "Epoch 48/100\n",
      "38/38 [==============================] - 11s 298ms/step - loss: 0.0024\n",
      "Epoch 49/100\n",
      "38/38 [==============================] - 11s 285ms/step - loss: 0.0024\n",
      "Epoch 50/100\n",
      "38/38 [==============================] - 11s 285ms/step - loss: 0.0027\n",
      "Epoch 51/100\n",
      "38/38 [==============================] - 11s 286ms/step - loss: 0.0026\n",
      "Epoch 52/100\n",
      "38/38 [==============================] - 12s 314ms/step - loss: 0.0024\n",
      "Epoch 53/100\n",
      "38/38 [==============================] - 12s 324ms/step - loss: 0.0030\n",
      "Epoch 54/100\n",
      "38/38 [==============================] - 13s 333ms/step - loss: 0.0027\n",
      "Epoch 55/100\n",
      "38/38 [==============================] - 13s 341ms/step - loss: 0.0030\n",
      "Epoch 56/100\n",
      "38/38 [==============================] - 13s 352ms/step - loss: 0.0024\n",
      "Epoch 57/100\n",
      "38/38 [==============================] - 13s 352ms/step - loss: 0.0025\n",
      "Epoch 58/100\n",
      "38/38 [==============================] - 14s 375ms/step - loss: 0.0023\n",
      "Epoch 59/100\n",
      "38/38 [==============================] - 13s 348ms/step - loss: 0.0027\n",
      "Epoch 60/100\n",
      "38/38 [==============================] - 13s 346ms/step - loss: 0.0028\n",
      "Epoch 61/100\n",
      "38/38 [==============================] - 12s 307ms/step - loss: 0.0025\n",
      "Epoch 62/100\n",
      "38/38 [==============================] - 12s 310ms/step - loss: 0.0022\n",
      "Epoch 63/100\n",
      "38/38 [==============================] - 12s 319ms/step - loss: 0.0024\n",
      "Epoch 64/100\n",
      "38/38 [==============================] - 12s 307ms/step - loss: 0.0021\n",
      "Epoch 65/100\n",
      "38/38 [==============================] - 12s 311ms/step - loss: 0.0023\n",
      "Epoch 66/100\n",
      "38/38 [==============================] - 11s 295ms/step - loss: 0.0022\n",
      "Epoch 67/100\n",
      "38/38 [==============================] - 11s 284ms/step - loss: 0.0023\n",
      "Epoch 68/100\n",
      "38/38 [==============================] - 11s 280ms/step - loss: 0.0025\n",
      "Epoch 69/100\n",
      "38/38 [==============================] - 11s 291ms/step - loss: 0.0024\n",
      "Epoch 70/100\n",
      "38/38 [==============================] - 12s 314ms/step - loss: 0.0023\n",
      "Epoch 71/100\n",
      "38/38 [==============================] - 12s 313ms/step - loss: 0.0021\n",
      "Epoch 72/100\n",
      "38/38 [==============================] - 12s 320ms/step - loss: 0.0021\n",
      "Epoch 73/100\n",
      "38/38 [==============================] - 12s 310ms/step - loss: 0.0020\n",
      "Epoch 74/100\n",
      "38/38 [==============================] - 13s 331ms/step - loss: 0.0024\n",
      "Epoch 75/100\n",
      "38/38 [==============================] - 12s 322ms/step - loss: 0.0019\n",
      "Epoch 76/100\n",
      "38/38 [==============================] - 12s 314ms/step - loss: 0.0020\n",
      "Epoch 77/100\n",
      "38/38 [==============================] - 12s 308ms/step - loss: 0.0023\n",
      "Epoch 78/100\n",
      "38/38 [==============================] - 12s 314ms/step - loss: 0.0020\n",
      "Epoch 79/100\n",
      "38/38 [==============================] - 12s 314ms/step - loss: 0.0022\n",
      "Epoch 80/100\n",
      "38/38 [==============================] - 12s 327ms/step - loss: 0.0021\n",
      "Epoch 81/100\n",
      "38/38 [==============================] - 13s 336ms/step - loss: 0.0021\n",
      "Epoch 82/100\n",
      "38/38 [==============================] - 12s 321ms/step - loss: 0.0022\n",
      "Epoch 83/100\n",
      "38/38 [==============================] - 12s 327ms/step - loss: 0.0020\n",
      "Epoch 84/100\n",
      "38/38 [==============================] - 12s 325ms/step - loss: 0.0022\n",
      "Epoch 85/100\n",
      "38/38 [==============================] - 12s 311ms/step - loss: 0.0022\n",
      "Epoch 86/100\n",
      "38/38 [==============================] - 12s 310ms/step - loss: 0.0020\n",
      "Epoch 87/100\n",
      "38/38 [==============================] - 11s 297ms/step - loss: 0.0019\n",
      "Epoch 88/100\n",
      "38/38 [==============================] - 10s 258ms/step - loss: 0.0022\n",
      "Epoch 89/100\n",
      "38/38 [==============================] - 10s 256ms/step - loss: 0.0022\n",
      "Epoch 90/100\n",
      "38/38 [==============================] - 10s 256ms/step - loss: 0.0019\n",
      "Epoch 91/100\n",
      "38/38 [==============================] - 10s 253ms/step - loss: 0.0020\n",
      "Epoch 92/100\n",
      "38/38 [==============================] - 10s 264ms/step - loss: 0.0021\n",
      "Epoch 93/100\n",
      "38/38 [==============================] - 10s 253ms/step - loss: 0.0020\n",
      "Epoch 94/100\n",
      "38/38 [==============================] - 10s 256ms/step - loss: 0.0022\n",
      "Epoch 95/100\n",
      "38/38 [==============================] - 10s 263ms/step - loss: 0.0020\n",
      "Epoch 96/100\n",
      "38/38 [==============================] - 10s 258ms/step - loss: 0.0024\n",
      "Epoch 97/100\n",
      "38/38 [==============================] - 10s 251ms/step - loss: 0.0021\n",
      "Epoch 98/100\n",
      "38/38 [==============================] - 9s 248ms/step - loss: 0.0020\n",
      "Epoch 99/100\n",
      "38/38 [==============================] - 9s 242ms/step - loss: 0.0020\n",
      "Epoch 100/100\n",
      "38/38 [==============================] - 9s 243ms/step - loss: 0.0021\n"
     ]
    },
    {
     "data": {
      "text/plain": [
       "<keras.src.callbacks.History at 0x230effd7010>"
      ]
     },
     "execution_count": 39,
     "metadata": {},
     "output_type": "execute_result"
    }
   ],
   "source": [
    "model.fit(X_train, y_train, batch_size=32, epochs=100)"
   ]
  },
  {
   "cell_type": "markdown",
   "id": "2e892cd6",
   "metadata": {},
   "source": [
    "## Making Predictions"
   ]
  },
  {
   "cell_type": "code",
   "execution_count": 40,
   "id": "fc3e8733",
   "metadata": {},
   "outputs": [],
   "source": [
    "# getting the real stock prices of month Nov 2019\n",
    "test_data = pd.read_csv('test_set.csv')"
   ]
  },
  {
   "cell_type": "code",
   "execution_count": 41,
   "id": "64c12c48",
   "metadata": {},
   "outputs": [
    {
     "data": {
      "text/plain": [
       "(22, 7)"
      ]
     },
     "execution_count": 41,
     "metadata": {},
     "output_type": "execute_result"
    }
   ],
   "source": [
    "test_data.shape\n"
   ]
  },
  {
   "cell_type": "code",
   "execution_count": 42,
   "id": "76822c3c",
   "metadata": {},
   "outputs": [
    {
     "name": "stdout",
     "output_type": "stream",
     "text": [
      "<class 'pandas.core.frame.DataFrame'>\n",
      "RangeIndex: 22 entries, 0 to 21\n",
      "Data columns (total 7 columns):\n",
      " #   Column     Non-Null Count  Dtype  \n",
      "---  ------     --------------  -----  \n",
      " 0   Date       22 non-null     object \n",
      " 1   Open       22 non-null     float64\n",
      " 2   High       22 non-null     float64\n",
      " 3   Low        22 non-null     float64\n",
      " 4   Close      22 non-null     float64\n",
      " 5   Adj Close  22 non-null     float64\n",
      " 6   Volume     22 non-null     int64  \n",
      "dtypes: float64(5), int64(1), object(1)\n",
      "memory usage: 1.3+ KB\n"
     ]
    }
   ],
   "source": [
    "test_data.info()"
   ]
  },
  {
   "cell_type": "code",
   "execution_count": 43,
   "id": "379ca024",
   "metadata": {},
   "outputs": [],
   "source": [
    "real_stock_price = test_data.iloc[:, 1:2].values"
   ]
  },
  {
   "cell_type": "code",
   "execution_count": 44,
   "id": "1ecac9b8",
   "metadata": {},
   "outputs": [
    {
     "data": {
      "text/plain": [
       "(22, 1)"
      ]
     },
     "execution_count": 44,
     "metadata": {},
     "output_type": "execute_result"
    }
   ],
   "source": [
    "real_stock_price.shape"
   ]
  },
  {
   "cell_type": "code",
   "execution_count": 46,
   "id": "f20c733c",
   "metadata": {},
   "outputs": [
    {
     "name": "stdout",
     "output_type": "stream",
     "text": [
      "1/1 [==============================] - 4s 4s/step\n"
     ]
    }
   ],
   "source": [
    "# Getting predicted stock prices of month Nov 2019\n",
    "\n",
    "# concatination\n",
    "dataset_total = pd.concat((training_data['Open'], test_data['Open']), axis = 0)\n",
    "\n",
    "# stock prices of previous 60 days for each day of Nov 2019\n",
    "inputs = dataset_total[len(dataset_total) - len(test_data) - 60:].values\n",
    "\n",
    "# reshape (convert into numpy array)\n",
    "inputs = inputs.reshape(-1,1)\n",
    "\n",
    "# feature scaling\n",
    "inputs = sc.transform(inputs)\n",
    "\n",
    "# creating a test set\n",
    "\n",
    "X_test = []\n",
    "for i in range(60, 80):\n",
    "  X_test.append(inputs[i-60:i, 0])\n",
    "\n",
    "# convert in numpy array\n",
    "X_test = np.array(X_test)\n",
    "\n",
    "# convert in 3D (required to process)\n",
    "X_test = np.reshape(X_test, (X_test.shape[0], X_test.shape[1], 1))\n",
    "\n",
    "# getting predicted stock prices\n",
    "predicted_stock_price = model.predict(X_test)\n",
    "predicted_stock_price = sc.inverse_transform(predicted_stock_price)"
   ]
  },
  {
   "cell_type": "code",
   "execution_count": 47,
   "id": "a0ef0526",
   "metadata": {},
   "outputs": [
    {
     "name": "stdout",
     "output_type": "stream",
     "text": [
      "[136.30319]\n",
      "[135.899994]\n"
     ]
    },
    {
     "data": {
      "text/plain": [
       "(None, None)"
      ]
     },
     "execution_count": 47,
     "metadata": {},
     "output_type": "execute_result"
    }
   ],
   "source": [
    "print(predicted_stock_price[5]), print(real_stock_price[5])"
   ]
  },
  {
   "cell_type": "markdown",
   "id": "2faec40f",
   "metadata": {},
   "source": [
    "## Visualisation"
   ]
  },
  {
   "cell_type": "code",
   "execution_count": 48,
   "id": "508a19d4",
   "metadata": {},
   "outputs": [
    {
     "data": {
      "image/png": "[encoded data removed]",
      "text/plain": [
       "<Figure size 640x480 with 1 Axes>"
      ]
     },
     "metadata": {},
     "output_type": "display_data"
    }
   ],
   "source": [
    "# Visualising the results\n",
    "plt.plot(real_stock_price, color='red', label='Real Google Stock Price')\n",
    "plt.plot(predicted_stock_price, color='blue', label='Predicted Google Stock Price')\n",
    "plt.title('Google Stock Price Prediction')\n",
    "plt.xlabel('Time')\n",
    "plt.ylabel('Google Stock Price')\n",
    "plt.legend()\n",
    "plt.show()"
   ]
  },
  {
   "cell_type": "code",
   "execution_count": null,
   "id": "5a5ff434",
   "metadata": {},
   "outputs": [],
   "source": []
  }
 ],
 "metadata": {
  "kernelspec": {
   "display_name": "Python 3 (ipykernel)",
   "language": "python",
   "name": "python3"
  },
  "language_info": {
   "codemirror_mode": {
    "name": "ipython",
    "version": 3
   },
   "file_extension": ".py",
   "mimetype": "text/x-python",
   "name": "python",
   "nbconvert_exporter": "python",
   "pygments_lexer": "ipython3",
   "version": "3.10.9"
  }
 },
 "nbformat": 4,
 "nbformat_minor": 5
}
